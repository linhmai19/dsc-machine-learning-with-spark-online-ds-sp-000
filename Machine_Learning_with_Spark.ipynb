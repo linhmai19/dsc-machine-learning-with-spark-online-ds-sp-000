{
  "nbformat": 4,
  "nbformat_minor": 0,
  "metadata": {
    "kernelspec": {
      "display_name": "Python 3",
      "language": "python",
      "name": "python3"
    },
    "language_info": {
      "codemirror_mode": {
        "name": "ipython",
        "version": 3
      },
      "file_extension": ".py",
      "mimetype": "text/x-python",
      "name": "python",
      "nbconvert_exporter": "python",
      "pygments_lexer": "ipython3",
      "version": "3.7.3"
    },
    "colab": {
      "name": "Machine _Learning_with_Spark.ipynb",
      "provenance": [],
      "collapsed_sections": [
        "DC88gexXG_nH"
      ],
      "include_colab_link": true
    }
  },
  "cells": [
    {
      "cell_type": "markdown",
      "metadata": {
        "id": "view-in-github",
        "colab_type": "text"
      },
      "source": [
        "<a href=\"https://colab.research.google.com/github/linhmai19/dsc-machine-learning-with-spark-online-ds-sp-000/blob/master/Machine_Learning_with_Spark.ipynb\" target=\"_parent\"><img src=\"https://colab.research.google.com/assets/colab-badge.svg\" alt=\"Open In Colab\"/></a>"
      ]
    },
    {
      "cell_type": "markdown",
      "metadata": {
        "id": "IScXKZN7G_k2",
        "colab_type": "text"
      },
      "source": [
        "# Machine Learning with Spark\n",
        "\n",
        "## Introduction\n",
        "\n",
        "You've now explored how to perform operations on Spark RDDs for simple MapReduce tasks. Luckily, there are far more advanced use cases for Spark, and many of them are found in the `ml` library, which we are going to explore in this lesson.\n",
        "\n",
        "\n",
        "## Objectives\n",
        "\n",
        "You will be able to: \n",
        "\n",
        "- Load and manipulate data using Spark DataFrames  \n",
        "- Define estimators and transformers in Spark ML \n",
        "- Create a Spark ML pipeline that transforms data and runs over a grid of hyperparameters \n",
        "\n",
        "\n",
        "\n",
        "## A Tale of Two Libraries\n",
        "\n",
        "If you look at the PySpark documentation, you'll notice that there are two different libraries for machine learning, [mllib](https://spark.apache.org/docs/latest/api/python/pyspark.mllib.html) and [ml](https://spark.apache.org/docs/latest/api/python/pyspark.ml.html). These libraries are extremely similar to one another, the only difference being that the `mllib` library is built upon the RDDs you just practiced using; whereas, the `ml` library is built on higher level Spark DataFrames, which has methods and attributes similar to pandas. Spark has stated that in the future, it is going to devote more effort to the `ml` library and that `mllib` will become deprecated. It's important to note that these libraries are much younger than pandas and scikit-learn and there are not as many features present in either.\n",
        "\n",
        "## Spark DataFrames\n",
        "\n",
        "In the previous lessons, you were introduced to SparkContext as the primary way to connect with a Spark Application. Here, we will be using SparkSession, which is from the [sql](https://spark.apache.org/docs/latest/api/python/pyspark.sql.html) component of PySpark. The SparkSession acts the same way as SparkContext; it is a bridge between Python and the Spark Application. It's just built on top of the Spark SQL API, a higher-level API than RDDs. In fact, a SparkContext object is spun up around which the SparkSession object is wrapped. Let's go through the process of manipulating some data here. For this example, we're going to be using the [Forest Fire dataset](https://archive.ics.uci.edu/ml/datasets/Forest+Fires) from UCI, which contains data about the area burned by wildfires in the Northeast region of Portugal in relation to numerous other factors.\n",
        "\n",
        "To begin with, let's create a SparkSession so that we can spin up our spark application. "
      ]
    },
    {
      "cell_type": "code",
      "metadata": {
        "id": "dfnxgdOIS15i",
        "colab_type": "code",
        "colab": {}
      },
      "source": [
        "!apt-get install openjdk-8-jdk-headless -qq > /dev/null\n",
        "!wget -q https://downloads.apache.org/spark/spark-2.4.6/spark-2.4.6-bin-hadoop2.7.tgz\n",
        "!tar xf spark-2.4.6-bin-hadoop2.7.tgz\n",
        "!pip install -q findspark"
      ],
      "execution_count": 1,
      "outputs": []
    },
    {
      "cell_type": "code",
      "metadata": {
        "id": "jKYuM5NS7Yaf",
        "colab_type": "code",
        "colab": {}
      },
      "source": [
        "import os\n",
        "os.environ[\"JAVA_HOME\"] = \"/usr/lib/jvm/java-8-openjdk-amd64\"\n",
        "os.environ[\"SPARK_HOME\"] = \"/content/spark-2.4.6-bin-hadoop2.7\""
      ],
      "execution_count": 2,
      "outputs": []
    },
    {
      "cell_type": "code",
      "metadata": {
        "id": "DXgYWOlC7l_9",
        "colab_type": "code",
        "colab": {
          "base_uri": "https://localhost:8080/",
          "height": 234
        },
        "outputId": "0a8a6e8f-f8a5-44da-d5b1-ca69d1e601bf"
      },
      "source": [
        "!pip install pyspark==2.4.0"
      ],
      "execution_count": 3,
      "outputs": [
        {
          "output_type": "stream",
          "text": [
            "Collecting pyspark==2.4.0\n",
            "\u001b[?25l  Downloading https://files.pythonhosted.org/packages/88/01/a37e827c2d80c6a754e40e99b9826d978b55254cc6c6672b5b08f2e18a7f/pyspark-2.4.0.tar.gz (213.4MB)\n",
            "\u001b[K     |████████████████████████████████| 213.4MB 64kB/s \n",
            "\u001b[?25hCollecting py4j==0.10.7\n",
            "\u001b[?25l  Downloading https://files.pythonhosted.org/packages/e3/53/c737818eb9a7dc32a7cd4f1396e787bd94200c3997c72c1dbe028587bd76/py4j-0.10.7-py2.py3-none-any.whl (197kB)\n",
            "\u001b[K     |████████████████████████████████| 204kB 37.1MB/s \n",
            "\u001b[?25hBuilding wheels for collected packages: pyspark\n",
            "  Building wheel for pyspark (setup.py) ... \u001b[?25l\u001b[?25hdone\n",
            "  Created wheel for pyspark: filename=pyspark-2.4.0-py2.py3-none-any.whl size=213793601 sha256=9df3a88602dd92a3be14331dfab249cfda9f19f7a2900671a9035b38949726ee\n",
            "  Stored in directory: /root/.cache/pip/wheels/cd/54/c2/abfcc942eddeaa7101228ebd6127a30dbdf903c72db4235b23\n",
            "Successfully built pyspark\n",
            "Installing collected packages: py4j, pyspark\n",
            "Successfully installed py4j-0.10.7 pyspark-2.4.0\n"
          ],
          "name": "stdout"
        }
      ]
    },
    {
      "cell_type": "code",
      "metadata": {
        "id": "Yg9OIJSLG_k4",
        "colab_type": "code",
        "colab": {}
      },
      "source": [
        "# importing the necessary libraries\n",
        "import pyspark\n",
        "from pyspark import SparkContext\n",
        "from pyspark.sql import SparkSession\n",
        "sc = SparkContext('local[*]')\n",
        "spark = SparkSession(sc)"
      ],
      "execution_count": 4,
      "outputs": []
    },
    {
      "cell_type": "code",
      "metadata": {
        "id": "0fjhQbQGHkmw",
        "colab_type": "code",
        "colab": {
          "resources": {
            "http://localhost:8080/nbextensions/google.colab/files.js": {
              "data": "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",
              "ok": true,
              "headers": [
                [
                  "content-type",
                  "application/javascript"
                ]
              ],
              "status": 200,
              "status_text": ""
            }
          },
          "base_uri": "https://localhost:8080/",
          "height": 73
        },
        "outputId": "1931cab2-c43e-4908-d21f-585f16cbb796"
      },
      "source": [
        "from google.colab import files\n",
        "uploaded = files.upload()"
      ],
      "execution_count": 5,
      "outputs": [
        {
          "output_type": "display_data",
          "data": {
            "text/html": [
              "\n",
              "     <input type=\"file\" id=\"files-5887860c-63d8-4648-af92-8ffab39d6dbf\" name=\"files[]\" multiple disabled\n",
              "        style=\"border:none\" />\n",
              "     <output id=\"result-5887860c-63d8-4648-af92-8ffab39d6dbf\">\n",
              "      Upload widget is only available when the cell has been executed in the\n",
              "      current browser session. Please rerun this cell to enable.\n",
              "      </output>\n",
              "      <script src=\"/nbextensions/google.colab/files.js\"></script> "
            ],
            "text/plain": [
              "<IPython.core.display.HTML object>"
            ]
          },
          "metadata": {
            "tags": []
          }
        },
        {
          "output_type": "stream",
          "text": [
            "Saving forestfires.csv to forestfires.csv\n"
          ],
          "name": "stdout"
        }
      ]
    },
    {
      "cell_type": "markdown",
      "metadata": {
        "id": "v7R6W2TOG_k7",
        "colab_type": "text"
      },
      "source": [
        "To create a SparkSession: "
      ]
    },
    {
      "cell_type": "code",
      "metadata": {
        "id": "ftXNOBbiG_k8",
        "colab_type": "code",
        "colab": {}
      },
      "source": [
        "# To create a SparkSession\n",
        "spark = SparkSession.builder.master('local').getOrCreate()"
      ],
      "execution_count": 6,
      "outputs": []
    },
    {
      "cell_type": "markdown",
      "metadata": {
        "id": "8MidCHcOG_lA",
        "colab_type": "text"
      },
      "source": [
        "Now, we'll load the data into a PySpark DataFrame: "
      ]
    },
    {
      "cell_type": "code",
      "metadata": {
        "id": "IU3jKxDnG_lA",
        "colab_type": "code",
        "colab": {
          "base_uri": "https://localhost:8080/",
          "height": 33
        },
        "outputId": "ae534467-30ae-4cf4-913b-41ab963b2692"
      },
      "source": [
        "# reading in pyspark df\n",
        "spark_df = spark.read.csv('forestfires.csv', header='true', inferSchema='true')\n",
        "# observing the datatype of df\n",
        "type(spark_df)"
      ],
      "execution_count": 7,
      "outputs": [
        {
          "output_type": "execute_result",
          "data": {
            "text/plain": [
              "pyspark.sql.dataframe.DataFrame"
            ]
          },
          "metadata": {
            "tags": []
          },
          "execution_count": 7
        }
      ]
    },
    {
      "cell_type": "markdown",
      "metadata": {
        "id": "-RjA6vuLG_lE",
        "colab_type": "text"
      },
      "source": [
        "You'll notice that some of the methods are extremely similar or the same as those found within Pandas."
      ]
    },
    {
      "cell_type": "code",
      "metadata": {
        "id": "8WF8uwTNG_lE",
        "colab_type": "code",
        "colab": {
          "base_uri": "https://localhost:8080/",
          "height": 33
        },
        "outputId": "a49b5822-3501-4abf-e7ab-a47ec04cb7de"
      },
      "source": [
        "spark_df.head()"
      ],
      "execution_count": 8,
      "outputs": [
        {
          "output_type": "execute_result",
          "data": {
            "text/plain": [
              "Row(X=7, Y=5, month='mar', day='fri', FFMC=86.2, DMC=26.2, DC=94.3, ISI=5.1, temp=8.2, RH=51, wind=6.7, rain=0.0, area=0.0)"
            ]
          },
          "metadata": {
            "tags": []
          },
          "execution_count": 8
        }
      ]
    },
    {
      "cell_type": "code",
      "metadata": {
        "id": "WX2iE-UFG_lH",
        "colab_type": "code",
        "colab": {
          "base_uri": "https://localhost:8080/",
          "height": 234
        },
        "outputId": "f19273fe-1612-4467-ef24-205c88e5f830"
      },
      "source": [
        "spark_df.columns"
      ],
      "execution_count": 9,
      "outputs": [
        {
          "output_type": "execute_result",
          "data": {
            "text/plain": [
              "['X',\n",
              " 'Y',\n",
              " 'month',\n",
              " 'day',\n",
              " 'FFMC',\n",
              " 'DMC',\n",
              " 'DC',\n",
              " 'ISI',\n",
              " 'temp',\n",
              " 'RH',\n",
              " 'wind',\n",
              " 'rain',\n",
              " 'area']"
            ]
          },
          "metadata": {
            "tags": []
          },
          "execution_count": 9
        }
      ]
    },
    {
      "cell_type": "markdown",
      "metadata": {
        "id": "3WT590AsG_lL",
        "colab_type": "text"
      },
      "source": [
        "Selecting multiple columns is similar as well: "
      ]
    },
    {
      "cell_type": "code",
      "metadata": {
        "id": "u4xG__0sG_lL",
        "colab_type": "code",
        "colab": {
          "base_uri": "https://localhost:8080/",
          "height": 33
        },
        "outputId": "82f6e10a-465d-41ce-fa2d-3fcbc6a2a727"
      },
      "source": [
        "# Selecting multiple columns\n",
        "spark_df[['month','day','rain']]"
      ],
      "execution_count": 10,
      "outputs": [
        {
          "output_type": "execute_result",
          "data": {
            "text/plain": [
              "DataFrame[month: string, day: string, rain: double]"
            ]
          },
          "metadata": {
            "tags": []
          },
          "execution_count": 10
        }
      ]
    },
    {
      "cell_type": "markdown",
      "metadata": {
        "id": "BfqTcGGXG_lP",
        "colab_type": "text"
      },
      "source": [
        "But selecting one column is different. If you want to maintain the methods of a spark DataFrame, you should use the `.select()` method. If you want to just select the column, you can use the same method you would use in pandas (this is primarily what you would use if you're attempting to create a boolean mask). "
      ]
    },
    {
      "cell_type": "code",
      "metadata": {
        "scrolled": true,
        "id": "Bjy6mO2FG_lP",
        "colab_type": "code",
        "colab": {}
      },
      "source": [
        "# Select 1 column. If want to maintain the methods of a spark Df:\n",
        "d = spark_df.select('rain')"
      ],
      "execution_count": 11,
      "outputs": []
    },
    {
      "cell_type": "code",
      "metadata": {
        "id": "5wO3DFNXG_lT",
        "colab_type": "code",
        "colab": {
          "base_uri": "https://localhost:8080/",
          "height": 33
        },
        "outputId": "eb85d966-5cf2-4887-f7a6-4149126d33e4"
      },
      "source": [
        "# If want to just select the column\n",
        "spark_df['rain']"
      ],
      "execution_count": 12,
      "outputs": [
        {
          "output_type": "execute_result",
          "data": {
            "text/plain": [
              "Column<b'rain'>"
            ]
          },
          "metadata": {
            "tags": []
          },
          "execution_count": 12
        }
      ]
    },
    {
      "cell_type": "markdown",
      "metadata": {
        "id": "0ngBDAkDG_lW",
        "colab_type": "text"
      },
      "source": [
        "Let's take a look at all of our data types in this dataframe"
      ]
    },
    {
      "cell_type": "code",
      "metadata": {
        "id": "8Uk7n_eSG_lW",
        "colab_type": "code",
        "colab": {
          "base_uri": "https://localhost:8080/",
          "height": 234
        },
        "outputId": "0fcf8296-8825-41e6-8d92-5ae10539cb20"
      },
      "source": [
        "spark_df.dtypes"
      ],
      "execution_count": 13,
      "outputs": [
        {
          "output_type": "execute_result",
          "data": {
            "text/plain": [
              "[('X', 'int'),\n",
              " ('Y', 'int'),\n",
              " ('month', 'string'),\n",
              " ('day', 'string'),\n",
              " ('FFMC', 'double'),\n",
              " ('DMC', 'double'),\n",
              " ('DC', 'double'),\n",
              " ('ISI', 'double'),\n",
              " ('temp', 'double'),\n",
              " ('RH', 'int'),\n",
              " ('wind', 'double'),\n",
              " ('rain', 'double'),\n",
              " ('area', 'double')]"
            ]
          },
          "metadata": {
            "tags": []
          },
          "execution_count": 13
        }
      ]
    },
    {
      "cell_type": "markdown",
      "metadata": {
        "id": "UU1ugO6DG_lZ",
        "colab_type": "text"
      },
      "source": [
        "## Aggregations with our DataFrame"
      ]
    },
    {
      "cell_type": "markdown",
      "metadata": {
        "id": "afrrP0A5G_la",
        "colab_type": "text"
      },
      "source": [
        "Let's investigate to see if there is any correlation between what month it is and the area of fire: "
      ]
    },
    {
      "cell_type": "code",
      "metadata": {
        "id": "WKGGEO0zG_la",
        "colab_type": "code",
        "colab": {
          "base_uri": "https://localhost:8080/",
          "height": 33
        },
        "outputId": "2e159d58-da4a-426d-8e63-460162b8b735"
      },
      "source": [
        "# Check correlation between what month it is and the area of fire\n",
        "spark_df_months = spark_df.groupBy('month').agg({'area': 'mean'})\n",
        "spark_df_months"
      ],
      "execution_count": 14,
      "outputs": [
        {
          "output_type": "execute_result",
          "data": {
            "text/plain": [
              "DataFrame[month: string, avg(area): double]"
            ]
          },
          "metadata": {
            "tags": []
          },
          "execution_count": 14
        }
      ]
    },
    {
      "cell_type": "markdown",
      "metadata": {
        "id": "TE_nJdswG_ld",
        "colab_type": "text"
      },
      "source": [
        "Notice how the grouped DataFrame is not returned when you call the aggregation method. Remember, this is still Spark! The transformations and actions are kept separate so that it is easier to manage large quantities of data. You can perform the transformation by calling `.collect()`: "
      ]
    },
    {
      "cell_type": "code",
      "metadata": {
        "id": "SrpbOfB3G_le",
        "colab_type": "code",
        "colab": {
          "base_uri": "https://localhost:8080/",
          "height": 217
        },
        "outputId": "34163dee-6c4e-461f-a8f7-2bbddc317b5c"
      },
      "source": [
        "# grouped DF is not returned when you call the aggregation method\n",
        "# perform the transformation:\n",
        "spark_df_months.collect()"
      ],
      "execution_count": 15,
      "outputs": [
        {
          "output_type": "execute_result",
          "data": {
            "text/plain": [
              "[Row(month='jun', avg(area)=5.841176470588234),\n",
              " Row(month='aug', avg(area)=12.489076086956521),\n",
              " Row(month='may', avg(area)=19.24),\n",
              " Row(month='feb', avg(area)=6.275),\n",
              " Row(month='sep', avg(area)=17.942616279069753),\n",
              " Row(month='mar', avg(area)=4.356666666666667),\n",
              " Row(month='oct', avg(area)=6.638),\n",
              " Row(month='jul', avg(area)=14.3696875),\n",
              " Row(month='nov', avg(area)=0.0),\n",
              " Row(month='apr', avg(area)=8.891111111111112),\n",
              " Row(month='dec', avg(area)=13.33),\n",
              " Row(month='jan', avg(area)=0.0)]"
            ]
          },
          "metadata": {
            "tags": []
          },
          "execution_count": 15
        }
      ]
    },
    {
      "cell_type": "markdown",
      "metadata": {
        "id": "Uy4FZT2eG_lh",
        "colab_type": "text"
      },
      "source": [
        "As you can see, there seem to be larger area fires during what would be considered the summer months in Portugal. On your own, practice more aggregations and manipulations that you might be able to perform on this dataset. "
      ]
    },
    {
      "cell_type": "markdown",
      "metadata": {
        "id": "14lgRxWqG_lh",
        "colab_type": "text"
      },
      "source": [
        "## Boolean Masking \n",
        "\n",
        "Boolean masking also works with PySpark DataFrames just like Pandas DataFrames, the only difference being that the `.filter()` method is used in PySpark. To try this out, let's compare the amount of fire in those areas with absolutely no rain to those areas that had rain."
      ]
    },
    {
      "cell_type": "code",
      "metadata": {
        "id": "E-VKfy6TG_li",
        "colab_type": "code",
        "colab": {}
      },
      "source": [
        "# compare the amount of fire in those areas with absolutely no rain \n",
        "# to those areas that had rain\n",
        "no_rain = spark_df.filter(spark_df['rain'] == 0.0)\n",
        "some_rain = spark_df.filter(spark_df['rain'] > 0.0)"
      ],
      "execution_count": 16,
      "outputs": []
    },
    {
      "cell_type": "markdown",
      "metadata": {
        "id": "eA59VWXpG_lk",
        "colab_type": "text"
      },
      "source": [
        "Now, to perform calculations to find the mean of a column, we'll have to import functions from `pyspark.sql`. As always, to read more about them, check out the [documentation](https://spark.apache.org/docs/latest/api/python/pyspark.sql.html#module-pyspark.sql.functions)."
      ]
    },
    {
      "cell_type": "code",
      "metadata": {
        "id": "m7BWJBU2G_ll",
        "colab_type": "code",
        "colab": {
          "base_uri": "https://localhost:8080/",
          "height": 284
        },
        "outputId": "0a6f4b7e-ae5f-4ef1-cd4c-47b0464e8756"
      },
      "source": [
        "# perform calculations to find the mean of a column\n",
        "from pyspark.sql.functions import mean\n",
        "print('no rain fire area: ', no_rain.select(mean('area')).show(),'\\n')\n",
        "print('some rain fire area: ', some_rain.select(mean('area')).show(),'\\n')"
      ],
      "execution_count": 17,
      "outputs": [
        {
          "output_type": "stream",
          "text": [
            "+------------------+\n",
            "|         avg(area)|\n",
            "+------------------+\n",
            "|13.023693516699408|\n",
            "+------------------+\n",
            "\n",
            "no rain fire area:  None \n",
            "\n",
            "+---------+\n",
            "|avg(area)|\n",
            "+---------+\n",
            "|  1.62375|\n",
            "+---------+\n",
            "\n",
            "some rain fire area:  None \n",
            "\n"
          ],
          "name": "stdout"
        }
      ]
    },
    {
      "cell_type": "markdown",
      "metadata": {
        "id": "9gt66ESQG_lo",
        "colab_type": "text"
      },
      "source": [
        "Yes there's definitely something there! Unsurprisingly, rain plays in a big factor in the spread of wildfire.\n",
        "\n",
        "Let's obtain data from only the summer months in Portugal (June, July, and August). We can also do the same for the winter months in Portugal (December, January, February)."
      ]
    },
    {
      "cell_type": "code",
      "metadata": {
        "id": "6SMu23LWG_lo",
        "colab_type": "code",
        "colab": {
          "base_uri": "https://localhost:8080/",
          "height": 251
        },
        "outputId": "0745ce48-a62a-4123-e157-35052a397ab1"
      },
      "source": [
        "# obtain data from only the summer and winter months in Portugal\n",
        "summer_months = spark_df.filter(spark_df['month'].isin(['jun','jul','aug']))\n",
        "winter_months = spark_df.filter(spark_df['month'].isin(['dec','jan','feb']))\n",
        "print('summer months fire area', summer_months.select(mean('area')).show())\n",
        "print('winter months fire areas', winter_months.select(mean('area')).show())"
      ],
      "execution_count": 18,
      "outputs": [
        {
          "output_type": "stream",
          "text": [
            "+------------------+\n",
            "|         avg(area)|\n",
            "+------------------+\n",
            "|12.262317596566525|\n",
            "+------------------+\n",
            "\n",
            "summer months fire area None\n",
            "+-----------------+\n",
            "|        avg(area)|\n",
            "+-----------------+\n",
            "|7.918387096774193|\n",
            "+-----------------+\n",
            "\n",
            "winter months fire areas None\n"
          ],
          "name": "stdout"
        }
      ]
    },
    {
      "cell_type": "markdown",
      "metadata": {
        "id": "sqoZicxOG_ls",
        "colab_type": "text"
      },
      "source": [
        "## Machine Learning\n",
        "\n",
        "Now that we've performed some data manipulation and aggregation, lets get to the really cool stuff, machine learning! PySpark states that they've used scikit-learn as an inspiration for their implementation of a machine learning library. As a result, many of the methods and functionalities look similar, but there are some crucial distinctions. There are three main concepts found within the ML library:\n",
        "\n",
        "`Transformer`: An algorithm that transforms one PySpark DataFrame into another DataFrame. \n",
        "\n",
        "`Estimator`: An algorithm that can be fit onto a PySpark DataFrame that can then be used as a Transformer. \n",
        "\n",
        "`Pipeline`: A pipeline very similar to an `sklearn` pipeline that chains together different actions.\n",
        "\n",
        "The reasoning behind this separation of the fitting and transforming step is because Spark is lazily evaluated, so the 'fitting' of a model does not actually take place until the Transformation action is called. Let's examine what this actually looks like by performing a regression on the Forest Fire dataset. To start off with, we'll import the necessary libraries for our tasks."
      ]
    },
    {
      "cell_type": "code",
      "metadata": {
        "id": "mUyB1uZXG_ls",
        "colab_type": "code",
        "colab": {}
      },
      "source": [
        "from pyspark.ml.regression import RandomForestRegressor\n",
        "from pyspark.ml import feature\n",
        "from pyspark.ml.feature import StringIndexer, VectorAssembler, OneHotEncoderEstimator"
      ],
      "execution_count": 19,
      "outputs": []
    },
    {
      "cell_type": "markdown",
      "metadata": {
        "id": "siNY4szaG_lw",
        "colab_type": "text"
      },
      "source": [
        "Looking at our data, one can see that all the categories are numerical except for day and month. We saw some correlation between the month and area burned in a fire, so we will include that in our model. The day of the week, however, is highly unlikely to have any effect on fire, so we will drop it from the DataFrame."
      ]
    },
    {
      "cell_type": "code",
      "metadata": {
        "id": "aQcRcw1DG_lw",
        "colab_type": "code",
        "colab": {
          "base_uri": "https://localhost:8080/",
          "height": 33
        },
        "outputId": "bd3ed7d5-484a-4279-851f-5c1ac6a04924"
      },
      "source": [
        "fire_df = spark_df.drop('day')\n",
        "fire_df.head()"
      ],
      "execution_count": 20,
      "outputs": [
        {
          "output_type": "execute_result",
          "data": {
            "text/plain": [
              "Row(X=7, Y=5, month='mar', FFMC=86.2, DMC=26.2, DC=94.3, ISI=5.1, temp=8.2, RH=51, wind=6.7, rain=0.0, area=0.0)"
            ]
          },
          "metadata": {
            "tags": []
          },
          "execution_count": 20
        }
      ]
    },
    {
      "cell_type": "markdown",
      "metadata": {
        "id": "px0sjk-EG_lz",
        "colab_type": "text"
      },
      "source": [
        "In order for us to run our model, we need to turn the months variable into a dummy variable. In `ml` this is a 2-step process that first requires turning the categorical variable into a numerical index (`StringIndexer`). Only after the variable is an integer can PySpark create dummy variable columns related to each category (`OneHotEncoderEstimator`). Your key parameters when using these `ml` estimators are: `inputCol` (the column you want to change) and `outputCol` (where you will store the changed column). Here it is in action: "
      ]
    },
    {
      "cell_type": "code",
      "metadata": {
        "id": "7iuBszk3G_lz",
        "colab_type": "code",
        "colab": {}
      },
      "source": [
        "# turning the categorical variable into a numerical index\n",
        "si = StringIndexer(inputCol='month', outputCol='month_num')\n",
        "model = si.fit(fire_df)\n",
        "new_df = model.transform(fire_df)"
      ],
      "execution_count": 21,
      "outputs": []
    },
    {
      "cell_type": "markdown",
      "metadata": {
        "id": "xirf_CX4G_l2",
        "colab_type": "text"
      },
      "source": [
        "Note the small, but critical distinction between `sklearn`'s implementation of a transformer and PySpark's implementation. `sklearn` is more object oriented and Spark is more functional oriented."
      ]
    },
    {
      "cell_type": "code",
      "metadata": {
        "id": "Cz4LPGnuG_l3",
        "colab_type": "code",
        "colab": {
          "base_uri": "https://localhost:8080/",
          "height": 33
        },
        "outputId": "2165ea18-4cfa-4f2b-aebb-99e1555769a3"
      },
      "source": [
        "## this is an estimator (an untrained transformer)\n",
        "type(si)"
      ],
      "execution_count": 22,
      "outputs": [
        {
          "output_type": "execute_result",
          "data": {
            "text/plain": [
              "pyspark.ml.feature.StringIndexer"
            ]
          },
          "metadata": {
            "tags": []
          },
          "execution_count": 22
        }
      ]
    },
    {
      "cell_type": "code",
      "metadata": {
        "id": "QZpDAbARG_l5",
        "colab_type": "code",
        "colab": {
          "base_uri": "https://localhost:8080/",
          "height": 33
        },
        "outputId": "686155c7-0339-41a5-b9f2-e135d679fba5"
      },
      "source": [
        "## this is a transformer (a trained transformer)\n",
        "type(model)"
      ],
      "execution_count": 23,
      "outputs": [
        {
          "output_type": "execute_result",
          "data": {
            "text/plain": [
              "pyspark.ml.feature.StringIndexerModel"
            ]
          },
          "metadata": {
            "tags": []
          },
          "execution_count": 23
        }
      ]
    },
    {
      "cell_type": "code",
      "metadata": {
        "id": "V9lK5K_5G_l8",
        "colab_type": "code",
        "colab": {
          "base_uri": "https://localhost:8080/",
          "height": 217
        },
        "outputId": "28c307e6-417c-455b-a123-a1612af40352"
      },
      "source": [
        "model.labels"
      ],
      "execution_count": 24,
      "outputs": [
        {
          "output_type": "execute_result",
          "data": {
            "text/plain": [
              "['aug',\n",
              " 'sep',\n",
              " 'mar',\n",
              " 'jul',\n",
              " 'feb',\n",
              " 'jun',\n",
              " 'oct',\n",
              " 'apr',\n",
              " 'dec',\n",
              " 'jan',\n",
              " 'may',\n",
              " 'nov']"
            ]
          },
          "metadata": {
            "tags": []
          },
          "execution_count": 24
        }
      ]
    },
    {
      "cell_type": "code",
      "metadata": {
        "id": "z1vdjs7CG_mA",
        "colab_type": "code",
        "colab": {
          "base_uri": "https://localhost:8080/",
          "height": 84
        },
        "outputId": "74119ea2-b438-4feb-9dbc-bc2756604ea8"
      },
      "source": [
        "new_df.head(4)"
      ],
      "execution_count": 25,
      "outputs": [
        {
          "output_type": "execute_result",
          "data": {
            "text/plain": [
              "[Row(X=7, Y=5, month='mar', FFMC=86.2, DMC=26.2, DC=94.3, ISI=5.1, temp=8.2, RH=51, wind=6.7, rain=0.0, area=0.0, month_num=2.0),\n",
              " Row(X=7, Y=4, month='oct', FFMC=90.6, DMC=35.4, DC=669.1, ISI=6.7, temp=18.0, RH=33, wind=0.9, rain=0.0, area=0.0, month_num=6.0),\n",
              " Row(X=7, Y=4, month='oct', FFMC=90.6, DMC=43.7, DC=686.9, ISI=6.7, temp=14.6, RH=33, wind=1.3, rain=0.0, area=0.0, month_num=6.0),\n",
              " Row(X=8, Y=6, month='mar', FFMC=91.7, DMC=33.3, DC=77.5, ISI=9.0, temp=8.3, RH=97, wind=4.0, rain=0.2, area=0.0, month_num=2.0)]"
            ]
          },
          "metadata": {
            "tags": []
          },
          "execution_count": 25
        }
      ]
    },
    {
      "cell_type": "markdown",
      "metadata": {
        "id": "W43GqN6gG_mD",
        "colab_type": "text"
      },
      "source": [
        "As you can see, we have created a new column called `'month_num'` that represents the month by a number. Now that we have performed this step, we can use Spark's version of `OneHotEncoder()` - `OneHotEncoderEstimator()`. Let's make sure we have an accurate representation of the months."
      ]
    },
    {
      "cell_type": "code",
      "metadata": {
        "id": "ZqCFE8kwG_mD",
        "colab_type": "code",
        "colab": {
          "base_uri": "https://localhost:8080/",
          "height": 217
        },
        "outputId": "4f7a3772-1963-43ad-cda8-cefb13dcb54f"
      },
      "source": [
        "# make sure we have an accurate representation of the months\n",
        "new_df.select('month_num').distinct().collect()"
      ],
      "execution_count": 26,
      "outputs": [
        {
          "output_type": "execute_result",
          "data": {
            "text/plain": [
              "[Row(month_num=8.0),\n",
              " Row(month_num=0.0),\n",
              " Row(month_num=7.0),\n",
              " Row(month_num=1.0),\n",
              " Row(month_num=4.0),\n",
              " Row(month_num=11.0),\n",
              " Row(month_num=3.0),\n",
              " Row(month_num=2.0),\n",
              " Row(month_num=10.0),\n",
              " Row(month_num=6.0),\n",
              " Row(month_num=5.0),\n",
              " Row(month_num=9.0)]"
            ]
          },
          "metadata": {
            "tags": []
          },
          "execution_count": 26
        }
      ]
    },
    {
      "cell_type": "code",
      "metadata": {
        "id": "4y2tRdWLG_mG",
        "colab_type": "code",
        "colab": {
          "base_uri": "https://localhost:8080/",
          "height": 33
        },
        "outputId": "f6156e25-cb89-46aa-e1b0-ff649593f903"
      },
      "source": [
        "# create dummy variable columns related to each category \n",
        "ohe = feature.OneHotEncoderEstimator(inputCols=['month_num'], outputCols=['month_vec'], dropLast=True)\n",
        "one_hot_encoded = ohe.fit(new_df).transform(new_df)\n",
        "one_hot_encoded.head()"
      ],
      "execution_count": 27,
      "outputs": [
        {
          "output_type": "execute_result",
          "data": {
            "text/plain": [
              "Row(X=7, Y=5, month='mar', FFMC=86.2, DMC=26.2, DC=94.3, ISI=5.1, temp=8.2, RH=51, wind=6.7, rain=0.0, area=0.0, month_num=2.0, month_vec=SparseVector(11, {2: 1.0}))"
            ]
          },
          "metadata": {
            "tags": []
          },
          "execution_count": 27
        }
      ]
    },
    {
      "cell_type": "markdown",
      "metadata": {
        "id": "mZGYSkg8G_mJ",
        "colab_type": "text"
      },
      "source": [
        "Great, we now have a OneHotEncoded sparse vector in the `'month_vec'` column! Because Spark is optimized for big data, sparse vectors are used rather than entirely new columns for dummy variables because it is more space efficient. You can see in this first row of the DataFrame:  \n",
        "\n",
        "`month_vec=SparseVector(11, {2: 1.0})` this indicates that we have a sparse vector of size 11 (because of the parameter `dropLast = True` in `OneHotEncoderEstimator()`) and this particular data point is the 2nd index of our month labels (march, based off the labels in the `model` StringEstimator transformer).  \n",
        "\n",
        "The final requirement for all machine learning models in PySpark is to put all of the features of your model into one sparse vector. This is once again for efficiency sake. Here, we are doing that with the `VectorAssembler()` estimator."
      ]
    },
    {
      "cell_type": "code",
      "metadata": {
        "id": "TUH8HKc7G_mK",
        "colab_type": "code",
        "colab": {}
      },
      "source": [
        "features = ['X','Y','FFMC','DMC','DC','ISI','temp','RH','wind','rain','month_vec']\n",
        "target = 'area'\n",
        "#sparse vectors are used rather than new columns for dummy var bc more space efficient\n",
        "vector = VectorAssembler(inputCols=features, outputCol='features')\n",
        "vectorized_df = vector.transform(one_hot_encoded)"
      ],
      "execution_count": 28,
      "outputs": []
    },
    {
      "cell_type": "code",
      "metadata": {
        "id": "QFQHBMe_G_mM",
        "colab_type": "code",
        "colab": {
          "base_uri": "https://localhost:8080/",
          "height": 33
        },
        "outputId": "c24b68c1-3f77-4ade-fb21-e190a19fb869"
      },
      "source": [
        "vectorized_df.head()"
      ],
      "execution_count": 29,
      "outputs": [
        {
          "output_type": "execute_result",
          "data": {
            "text/plain": [
              "Row(X=7, Y=5, month='mar', FFMC=86.2, DMC=26.2, DC=94.3, ISI=5.1, temp=8.2, RH=51, wind=6.7, rain=0.0, area=0.0, month_num=2.0, month_vec=SparseVector(11, {2: 1.0}), features=SparseVector(21, {0: 7.0, 1: 5.0, 2: 86.2, 3: 26.2, 4: 94.3, 5: 5.1, 6: 8.2, 7: 51.0, 8: 6.7, 12: 1.0}))"
            ]
          },
          "metadata": {
            "tags": []
          },
          "execution_count": 29
        }
      ]
    },
    {
      "cell_type": "markdown",
      "metadata": {
        "id": "P3KotxNYG_mP",
        "colab_type": "text"
      },
      "source": [
        "Great! We now have our data in a format that seems acceptable for the last step. It's time for us to actually fit our model to data! Let's fit a Random Forest Regression model to our data. Although there are still a bunch of other features in the DataFrame, it doesn't matter for the machine learning model API. All that needs to be specified are the names of the features column and the label column. "
      ]
    },
    {
      "cell_type": "code",
      "metadata": {
        "id": "7CThECMuG_mP",
        "colab_type": "code",
        "colab": {}
      },
      "source": [
        "# instantiating and fitting the model\n",
        "rf_model = RandomForestRegressor(featuresCol='features', \n",
        "                                 labelCol='area', predictionCol='prediction').fit(vectorized_df)"
      ],
      "execution_count": 30,
      "outputs": []
    },
    {
      "cell_type": "code",
      "metadata": {
        "id": "a1okfzNtG_mR",
        "colab_type": "code",
        "colab": {
          "base_uri": "https://localhost:8080/",
          "height": 33
        },
        "outputId": "4b17247e-e8ae-4fd9-a979-63795e51db16"
      },
      "source": [
        "rf_model.featureImportances"
      ],
      "execution_count": 31,
      "outputs": [
        {
          "output_type": "execute_result",
          "data": {
            "text/plain": [
              "SparseVector(21, {0: 0.1958, 1: 0.0349, 2: 0.1, 3: 0.0983, 4: 0.0821, 5: 0.0787, 6: 0.1465, 7: 0.1595, 8: 0.0744, 10: 0.002, 11: 0.0145, 12: 0.0, 13: 0.0121, 15: 0.0001, 16: 0.0, 17: 0.0007, 18: 0.0003, 20: 0.0001})"
            ]
          },
          "metadata": {
            "tags": []
          },
          "execution_count": 31
        }
      ]
    },
    {
      "cell_type": "code",
      "metadata": {
        "id": "F2oVjbgyG_mV",
        "colab_type": "code",
        "colab": {
          "base_uri": "https://localhost:8080/",
          "height": 184
        },
        "outputId": "a0e00545-0bab-4920-f9fb-8181a2c3e107"
      },
      "source": [
        "# generating predictions\n",
        "predictions = rf_model.transform(vectorized_df).select('area', 'prediction')\n",
        "predictions.head(10)"
      ],
      "execution_count": 32,
      "outputs": [
        {
          "output_type": "execute_result",
          "data": {
            "text/plain": [
              "[Row(area=0.0, prediction=6.352636856327962),\n",
              " Row(area=0.0, prediction=4.601000816588945),\n",
              " Row(area=0.0, prediction=5.280145649199879),\n",
              " Row(area=0.0, prediction=8.376796454979699),\n",
              " Row(area=0.0, prediction=5.8070309931145285),\n",
              " Row(area=0.0, prediction=11.25956961757369),\n",
              " Row(area=0.0, prediction=3.690648224292322),\n",
              " Row(area=0.0, prediction=7.070341151133739),\n",
              " Row(area=0.0, prediction=13.955880523462238),\n",
              " Row(area=0.0, prediction=6.410477060240034)]"
            ]
          },
          "metadata": {
            "tags": []
          },
          "execution_count": 32
        }
      ]
    },
    {
      "cell_type": "markdown",
      "metadata": {
        "id": "3IArW09BG_mX",
        "colab_type": "text"
      },
      "source": [
        "Now we can evaluate how well the model performed using `RegressionEvaluator`."
      ]
    },
    {
      "cell_type": "code",
      "metadata": {
        "id": "FxuUZSE7G_mY",
        "colab_type": "code",
        "colab": {}
      },
      "source": [
        "# evaluate how well the model performed\n",
        "from pyspark.ml.evaluation import RegressionEvaluator\n",
        "evaluator = RegressionEvaluator(predictionCol='prediction', labelCol='area')"
      ],
      "execution_count": 33,
      "outputs": []
    },
    {
      "cell_type": "code",
      "metadata": {
        "id": "py5x8MhFG_md",
        "colab_type": "code",
        "colab": {
          "base_uri": "https://localhost:8080/",
          "height": 33
        },
        "outputId": "c3edb97d-7b38-4ec3-8eb3-dedd53b8699e"
      },
      "source": [
        "# evaluating r^2\n",
        "evaluator.evaluate(predictions,{evaluator.metricName: 'r2'})"
      ],
      "execution_count": 34,
      "outputs": [
        {
          "output_type": "execute_result",
          "data": {
            "text/plain": [
              "0.6988059389779755"
            ]
          },
          "metadata": {
            "tags": []
          },
          "execution_count": 34
        }
      ]
    },
    {
      "cell_type": "code",
      "metadata": {
        "id": "SDQAVc9hG_mf",
        "colab_type": "code",
        "colab": {
          "base_uri": "https://localhost:8080/",
          "height": 33
        },
        "outputId": "5acc552c-0b43-45f6-8dc7-7232a9c1bc82"
      },
      "source": [
        "# evaluating mean absolute error\n",
        "evaluator.evaluate(predictions,{evaluator.metricName: 'mae'})"
      ],
      "execution_count": 35,
      "outputs": [
        {
          "output_type": "execute_result",
          "data": {
            "text/plain": [
              "13.969643528588929"
            ]
          },
          "metadata": {
            "tags": []
          },
          "execution_count": 35
        }
      ]
    },
    {
      "cell_type": "markdown",
      "metadata": {
        "id": "tQwwGUFnG_mh",
        "colab_type": "text"
      },
      "source": [
        "## Putting it all in a Pipeline\n",
        "\n",
        "We just performed a whole lot of transformations to our data. Let's take a look at all the estimators we used to create this model:\n",
        "\n",
        "* `StringIndexer()` \n",
        "* `OneHotEnconderEstimator()` \n",
        "* `VectorAssembler()` \n",
        "* `RandomForestRegressor()` \n",
        "\n",
        "Once we've fit our model in the Pipeline, we're then going to want to evaluate it to determine how well it performs. We can do this with:\n",
        "\n",
        "* `RegressionEvaluator()` \n",
        "\n",
        "We can streamline all of these transformations to make it much more efficient by chaining them together in a pipeline. The Pipeline object expects a list of the estimators prior set to the parameter `stages`."
      ]
    },
    {
      "cell_type": "code",
      "metadata": {
        "id": "C5O3WPGkG_mi",
        "colab_type": "code",
        "colab": {}
      },
      "source": [
        "# importing relevant libraries\n",
        "from pyspark.ml.tuning import ParamGridBuilder, TrainValidationSplit, CrossValidator\n",
        "from pyspark.ml import Pipeline"
      ],
      "execution_count": 36,
      "outputs": []
    },
    {
      "cell_type": "code",
      "metadata": {
        "id": "y-AZ6l54G_mk",
        "colab_type": "code",
        "colab": {}
      },
      "source": [
        "## instantiating all necessary estimator objects\n",
        "string_indexer = StringIndexer(inputCol='month', outputCol='month_num', handleInvalid='keep')\n",
        "one_hot_encoder = OneHotEncoderEstimator(inputCols=['month_num'], outputCols=['month_vec'], dropLast=True)\n",
        "vector_assember = VectorAssembler(inputCols=features, outputCol='features')\n",
        "random_forest = RandomForestRegressor(featuresCol='features', labelCol='area')\n",
        "stages = [string_indexer, one_hot_encoder, vector_assember, random_forest]\n",
        "# instantiating the pipeline with all them estimator objects\n",
        "pipeline = Pipeline(stages=stages)"
      ],
      "execution_count": 37,
      "outputs": []
    },
    {
      "cell_type": "markdown",
      "metadata": {
        "id": "guDLb6wZG_mn",
        "colab_type": "text"
      },
      "source": [
        "### Cross-validation \n",
        "\n",
        "You might have missed a critical step in the random forest regression above; we did not cross validate or perform a train/test split! Now we're going to fix that by performing cross-validation and also testing out multiple different combinations of parameters in PySpark's `GridSearch()` equivalent. To begin with, we will create a parameter grid that contains the different parameters we want to use in our model."
      ]
    },
    {
      "cell_type": "code",
      "metadata": {
        "id": "qnm0ZyTFG_mn",
        "colab_type": "code",
        "colab": {}
      },
      "source": [
        "# creating parameter grid\n",
        "params = ParamGridBuilder().addGrid(random_forest.maxDepth, [5, 10, 15]).addGrid(random_forest.numTrees, [20 ,50, 100]).build()"
      ],
      "execution_count": 42,
      "outputs": []
    },
    {
      "cell_type": "markdown",
      "metadata": {
        "id": "iQzuGMS_G_mp",
        "colab_type": "text"
      },
      "source": [
        "Let's take a look at the params variable we just built."
      ]
    },
    {
      "cell_type": "code",
      "metadata": {
        "id": "TposSIiNG_mq",
        "colab_type": "code",
        "colab": {
          "base_uri": "https://localhost:8080/",
          "height": 67
        },
        "outputId": "aa90f24d-dac1-4861-8b04-0cd5a14cad44"
      },
      "source": [
        "print('total combinations of parameters: ', len(params))\n",
        "params[0]"
      ],
      "execution_count": 43,
      "outputs": [
        {
          "output_type": "stream",
          "text": [
            "total combinations of parameters:  9\n"
          ],
          "name": "stdout"
        },
        {
          "output_type": "execute_result",
          "data": {
            "text/plain": [
              "{Param(parent='RandomForestRegressor_14d9ca3511f3', name='maxDepth', doc='Maximum depth of the tree. (>= 0) E.g., depth 0 means 1 leaf node; depth 1 means 1 internal node + 2 leaf nodes.'): 5,\n",
              " Param(parent='RandomForestRegressor_14d9ca3511f3', name='numTrees', doc='Number of trees to train (>= 1).'): 20}"
            ]
          },
          "metadata": {
            "tags": []
          },
          "execution_count": 43
        }
      ]
    },
    {
      "cell_type": "markdown",
      "metadata": {
        "id": "vyEWpsvsG_ms",
        "colab_type": "text"
      },
      "source": [
        "Now it's time to combine all the steps we've created to work in a single line of code with the `CrossValidator()` estimator."
      ]
    },
    {
      "cell_type": "code",
      "metadata": {
        "id": "H0qhGHx3G_ms",
        "colab_type": "code",
        "colab": {}
      },
      "source": [
        "## instantiating the evaluator by which we will measure our model's performance\n",
        "reg_evaluator = RegressionEvaluator(predictionCol='prediction', labelCol='area', metricName = 'mae')\n",
        "## instantiating crossvalidator estimator\n",
        "cv = CrossValidator(estimator=pipeline, estimatorParamMaps=params, evaluator=reg_evaluator, parallelism=4)"
      ],
      "execution_count": 44,
      "outputs": []
    },
    {
      "cell_type": "code",
      "metadata": {
        "id": "pT8y8cZAG_mw",
        "colab_type": "code",
        "colab": {}
      },
      "source": [
        "## fitting crossvalidator\n",
        "cross_validated_model = cv.fit(fire_df)"
      ],
      "execution_count": 45,
      "outputs": []
    },
    {
      "cell_type": "markdown",
      "metadata": {
        "id": "4YiY1MndG_mz",
        "colab_type": "text"
      },
      "source": [
        "Now, let's see how well the model performed! Let's take a look at the average performance for each one of our 9 models. It looks like the optimal performance is an MAE around 23. Note that this is worse than our original model, but that's because our original model had substantial data leakage. We didn't do a train-test split!"
      ]
    },
    {
      "cell_type": "code",
      "metadata": {
        "scrolled": true,
        "id": "VESpESqDG_mz",
        "colab_type": "code",
        "colab": {
          "base_uri": "https://localhost:8080/",
          "height": 167
        },
        "outputId": "136c978b-7078-472e-e2c9-47df11c2b493"
      },
      "source": [
        "cross_validated_model.avgMetrics"
      ],
      "execution_count": 46,
      "outputs": [
        {
          "output_type": "execute_result",
          "data": {
            "text/plain": [
              "[21.353052196978744,\n",
              " 19.95538831926236,\n",
              " 20.564545662146514,\n",
              " 22.248419405964196,\n",
              " 21.198015698708687,\n",
              " 21.587946596496323,\n",
              " 22.352774093108525,\n",
              " 21.37037910178458,\n",
              " 21.689758853233865]"
            ]
          },
          "metadata": {
            "tags": []
          },
          "execution_count": 46
        }
      ]
    },
    {
      "cell_type": "markdown",
      "metadata": {
        "id": "97gRYPuqG_m3",
        "colab_type": "text"
      },
      "source": [
        "Now, let's take a look at the optimal parameters of our best performing model. The `cross_validated_model` variable is now saved as the best performing model from the grid search just performed. Let's look to see how well the predictions performed. As you can see, this dataset has a large number of areas of \"0.0\" burned. Perhaps, it would be better to investigate this problem as a classification task."
      ]
    },
    {
      "cell_type": "code",
      "metadata": {
        "id": "8bbVNXdQG_m4",
        "colab_type": "code",
        "colab": {
          "base_uri": "https://localhost:8080/",
          "height": 1000
        },
        "outputId": "03741f79-f6e5-43f8-d0ea-8ec8cc9a668f"
      },
      "source": [
        "predictions = cross_validated_model.transform(spark_df)\n",
        "predictions.select('prediction', 'area').show(300)"
      ],
      "execution_count": 47,
      "outputs": [
        {
          "output_type": "stream",
          "text": [
            "+------------------+-------+\n",
            "|        prediction|   area|\n",
            "+------------------+-------+\n",
            "| 5.683390647776322|    0.0|\n",
            "| 5.771728853062804|    0.0|\n",
            "| 6.163589097589121|    0.0|\n",
            "| 7.429343306082455|    0.0|\n",
            "| 7.489747681014323|    0.0|\n",
            "| 6.680822042888285|    0.0|\n",
            "|  8.60103055805106|    0.0|\n",
            "| 7.699229276996877|    0.0|\n",
            "|  7.08392795045339|    0.0|\n",
            "| 6.868440348042928|    0.0|\n",
            "| 7.086065299541036|    0.0|\n",
            "| 6.475116875125233|    0.0|\n",
            "| 5.461544056968895|    0.0|\n",
            "| 9.383666881402675|    0.0|\n",
            "|  85.9947978563381|    0.0|\n",
            "| 7.431810574643116|    0.0|\n",
            "| 5.904936230760493|    0.0|\n",
            "| 6.524154418619187|    0.0|\n",
            "| 5.374526042215093|    0.0|\n",
            "| 6.462713035138861|    0.0|\n",
            "|16.684697046620023|    0.0|\n",
            "| 4.938510292448243|    0.0|\n",
            "| 6.756899950622807|    0.0|\n",
            "| 7.312454301756425|    0.0|\n",
            "| 7.351644560899738|    0.0|\n",
            "| 5.968353927673004|    0.0|\n",
            "| 8.470743754976516|    0.0|\n",
            "|10.029892732275728|    0.0|\n",
            "|14.094133029562661|    0.0|\n",
            "|10.546088061697104|    0.0|\n",
            "| 5.490508650078522|    0.0|\n",
            "| 5.504398071105953|    0.0|\n",
            "| 12.92887492248247|    0.0|\n",
            "| 5.995598237991935|    0.0|\n",
            "| 5.748155525581661|    0.0|\n",
            "| 6.298540762658697|    0.0|\n",
            "| 7.148959106313347|    0.0|\n",
            "| 6.212570971803486|    0.0|\n",
            "| 7.586643041917155|    0.0|\n",
            "| 4.849593878723391|    0.0|\n",
            "| 14.89596494150284|    0.0|\n",
            "| 4.706899617490909|    0.0|\n",
            "| 5.408047194484004|    0.0|\n",
            "|5.2753729257373925|    0.0|\n",
            "| 5.553151450506253|    0.0|\n",
            "| 45.86471234988777|    0.0|\n",
            "| 6.563582343423975|    0.0|\n",
            "|  5.37154264480543|    0.0|\n",
            "| 4.760776477342415|    0.0|\n",
            "| 5.714839201783263|    0.0|\n",
            "|10.276188043656669|    0.0|\n",
            "| 4.863626483921626|    0.0|\n",
            "| 5.024728616343902|    0.0|\n",
            "| 5.024728616343902|    0.0|\n",
            "| 5.070125205740707|    0.0|\n",
            "|11.194671612648838|    0.0|\n",
            "| 5.231643698283566|    0.0|\n",
            "| 5.328196113433725|    0.0|\n",
            "| 4.908565846717923|    0.0|\n",
            "| 4.635424785482669|    0.0|\n",
            "| 4.576099722525659|    0.0|\n",
            "| 4.814957820034644|    0.0|\n",
            "|10.356471630057529|    0.0|\n",
            "|  3.74928742988341|    0.0|\n",
            "| 4.715348228684024|    0.0|\n",
            "| 6.762050861289921|    0.0|\n",
            "| 9.692255429579511|    0.0|\n",
            "|12.074071282271793|    0.0|\n",
            "|12.214159272467871|    0.0|\n",
            "| 6.002456893245779|    0.0|\n",
            "| 6.635148179139281|    0.0|\n",
            "| 5.371625557405022|    0.0|\n",
            "| 6.337504703203344|    0.0|\n",
            "|10.658553241281574|    0.0|\n",
            "| 6.531799834137087|    0.0|\n",
            "|  5.72546380977898|    0.0|\n",
            "| 5.574769930056422|    0.0|\n",
            "|  5.79066967575389|    0.0|\n",
            "|3.3445102847055375|    0.0|\n",
            "| 21.52466032571212|    0.0|\n",
            "| 14.40580599546734|    0.0|\n",
            "| 3.322208066855332|    0.0|\n",
            "|13.065823576379522|    0.0|\n",
            "| 8.698299154790854|    0.0|\n",
            "|3.7192468668573877|    0.0|\n",
            "|17.285821063595915|    0.0|\n",
            "| 5.754459157003405|    0.0|\n",
            "|16.401372563002155|    0.0|\n",
            "|25.284213509799443|    0.0|\n",
            "| 6.586200896327085|    0.0|\n",
            "| 4.762270253129561|    0.0|\n",
            "| 8.409729497670881|    0.0|\n",
            "| 8.892876846238396|    0.0|\n",
            "|10.713604278991886|    0.0|\n",
            "| 11.41862540221217|    0.0|\n",
            "| 5.185624290990521|    0.0|\n",
            "| 4.727024337015342|    0.0|\n",
            "|  5.93797816215612|    0.0|\n",
            "| 4.970818440069896|    0.0|\n",
            "| 6.678079839927806|    0.0|\n",
            "| 6.678079839927806|    0.0|\n",
            "| 9.981118649679686|    0.0|\n",
            "| 4.290364459471731|    0.0|\n",
            "|10.724698193375314|    0.0|\n",
            "|4.7453441146760875|    0.0|\n",
            "| 5.676858100597083|    0.0|\n",
            "| 6.250646744628823|    0.0|\n",
            "|5.0879196086959455|    0.0|\n",
            "| 5.308046842777879|    0.0|\n",
            "|5.3288155485837425|    0.0|\n",
            "|5.5563746218467305|    0.0|\n",
            "| 5.797870449175174|    0.0|\n",
            "| 6.650759243964047|    0.0|\n",
            "| 5.243986299682955|    0.0|\n",
            "|  5.16178094707077|    0.0|\n",
            "|5.0647961571603615|    0.0|\n",
            "| 5.072760747003666|    0.0|\n",
            "| 5.338140156283954|    0.0|\n",
            "|4.7147268035757115|    0.0|\n",
            "| 4.435987599255079|    0.0|\n",
            "| 4.616609041035325|    0.0|\n",
            "| 4.909353180622731|    0.0|\n",
            "| 7.202008320113591|    0.0|\n",
            "| 6.877585484401131|    0.0|\n",
            "| 5.710313237322283|    0.0|\n",
            "|13.167169350573374|    0.0|\n",
            "| 4.367170815842201|    0.0|\n",
            "| 8.811329005720033|    0.0|\n",
            "|  6.40700877305135|    0.0|\n",
            "| 7.244062960834064|    0.0|\n",
            "| 4.888625417661508|    0.0|\n",
            "|5.1105965446076995|    0.0|\n",
            "| 5.457188293010746|    0.0|\n",
            "| 6.024580257779519|    0.0|\n",
            "| 4.069394118801063|    0.0|\n",
            "| 6.713933879967308|    0.0|\n",
            "| 7.512591893783001|    0.0|\n",
            "| 6.111140359362912|    0.0|\n",
            "| 9.662966921710737|   0.36|\n",
            "|11.134169704199158|   0.43|\n",
            "|11.411761822918072|   0.47|\n",
            "| 4.041642228885078|   0.55|\n",
            "|7.1019357977034385|   0.61|\n",
            "| 4.938406205611869|   0.71|\n",
            "| 5.096212463372937|   0.77|\n",
            "| 9.735860592566324|    0.9|\n",
            "| 5.723474816357943|   0.95|\n",
            "|18.160051683473323|   0.96|\n",
            "|7.6899771143930025|   1.07|\n",
            "| 58.13662133001935|   1.12|\n",
            "| 6.540622623721334|   1.19|\n",
            "| 11.44151314865436|   1.36|\n",
            "| 8.020118861398597|   1.43|\n",
            "| 5.933566188656663|   1.46|\n",
            "| 35.09179720044661|   1.46|\n",
            "|11.083754632997161|   1.56|\n",
            "|10.940035565943369|   1.61|\n",
            "| 3.487573485451997|   1.63|\n",
            "| 4.071791142088767|   1.64|\n",
            "| 8.470743754976516|   1.69|\n",
            "| 5.815460917235663|   1.75|\n",
            "| 6.096151770290191|    1.9|\n",
            "| 7.377423404786717|   1.94|\n",
            "|13.313368507510127|   1.95|\n",
            "| 6.044498797048289|   2.01|\n",
            "| 5.520544113124362|   2.14|\n",
            "| 4.400738060805286|   2.29|\n",
            "|6.3940734392826775|   2.51|\n",
            "| 8.720065556172283|   2.53|\n",
            "|12.839812686335035|   2.55|\n",
            "| 7.589113214764856|   2.57|\n",
            "| 6.730354423798158|   2.69|\n",
            "| 7.864814255044402|   2.74|\n",
            "|10.972647313809308|   3.07|\n",
            "|3.3267093940358774|    3.5|\n",
            "| 5.554498882282852|   4.53|\n",
            "| 5.550364205249363|   4.61|\n",
            "| 4.525842746571118|   4.69|\n",
            "|5.5911846795913345|   4.88|\n",
            "| 8.149997581455116|   5.23|\n",
            "| 10.23357492742568|   5.33|\n",
            "| 8.455532761663632|   5.44|\n",
            "| 5.388289340480269|   6.38|\n",
            "|11.162318711203595|   6.83|\n",
            "|13.088335495690348|   6.96|\n",
            "| 9.909503595556084|   7.04|\n",
            "|18.351986233428565|   7.19|\n",
            "|10.186551413198586|    7.3|\n",
            "| 4.740682563041391|    7.4|\n",
            "| 5.882475218883578|   8.24|\n",
            "|7.4126775667933735|   8.31|\n",
            "| 5.654706233320796|   8.68|\n",
            "|6.7459805697834065|   8.71|\n",
            "|13.982580185697405|   9.41|\n",
            "|6.7459805697834065|  10.01|\n",
            "|6.4311062126047425|  10.02|\n",
            "| 5.550364205249363|  10.93|\n",
            "|12.563336251848648|  11.06|\n",
            "| 6.914072821133232|  11.24|\n",
            "|10.221958645184793|  11.32|\n",
            "|11.204115694906122|  11.53|\n",
            "| 5.546028954198598|   12.1|\n",
            "| 5.395618934301402|  13.05|\n",
            "| 8.609637044234834|   13.7|\n",
            "| 6.327771176282214|  13.99|\n",
            "|6.9537860709072445|  14.57|\n",
            "| 8.443144005574192|  15.45|\n",
            "|10.709490059313174|   17.2|\n",
            "| 8.695717542096412|  19.23|\n",
            "|27.371797426874487|  23.41|\n",
            "| 9.621284566696632|  24.23|\n",
            "| 9.388309569970025|   26.0|\n",
            "| 7.381333890652692|  26.13|\n",
            "| 7.343642775645312|  27.35|\n",
            "| 6.729709632948592|  28.66|\n",
            "| 6.729709632948592|  28.66|\n",
            "| 8.160782881429684|  29.48|\n",
            "| 8.250603869524452|  30.32|\n",
            "| 14.77530166061309|  31.72|\n",
            "|  8.11283479638539|  31.86|\n",
            "| 6.240740096817446|  32.07|\n",
            "| 8.964615460999976|  35.88|\n",
            "| 6.594852947448547|  36.85|\n",
            "| 24.41795265557394|  37.02|\n",
            "|6.1560060391936675|  37.71|\n",
            "|11.460709267526372|  48.55|\n",
            "|13.599971346411522|  49.37|\n",
            "|17.948831519356663|   58.3|\n",
            "|40.799096224372086|   64.1|\n",
            "|16.896229919793942|   71.3|\n",
            "| 34.40299788163308|  88.49|\n",
            "| 49.96819548944726|  95.18|\n",
            "|14.543200218173133| 103.39|\n",
            "|44.825283857245125| 105.66|\n",
            "| 92.15265374800224| 154.88|\n",
            "| 43.12130404561813| 196.48|\n",
            "| 77.33474954608081| 200.94|\n",
            "| 73.06950636580008| 212.88|\n",
            "| 629.4996263817079|1090.84|\n",
            "| 5.583065473812767|    0.0|\n",
            "| 7.243428825612806|    0.0|\n",
            "| 6.685265573615525|    0.0|\n",
            "| 5.512269432911317|  10.13|\n",
            "| 7.397788184402132|    0.0|\n",
            "| 5.984474409681313|   2.87|\n",
            "| 6.383672158171596|   0.76|\n",
            "|  5.30833505384213|   0.09|\n",
            "|3.9619581942126145|   0.75|\n",
            "|13.624439822004883|    0.0|\n",
            "|4.9872839981539405|   2.47|\n",
            "| 8.132097434072383|   0.68|\n",
            "|5.3366431543129735|   0.24|\n",
            "|  5.21908327849005|   0.21|\n",
            "| 4.574777505151351|   1.52|\n",
            "| 9.802751596477965|  10.34|\n",
            "|  7.31245536033714|    0.0|\n",
            "| 6.658392920942966|   8.02|\n",
            "| 4.813710800768946|   0.68|\n",
            "|  5.38743051914989|    0.0|\n",
            "| 10.07447883310044|   1.38|\n",
            "|6.0767091900163885|   8.85|\n",
            "| 4.502770494461625|    3.3|\n",
            "| 3.966613101357745|   4.25|\n",
            "|   8.1668346818817|   1.56|\n",
            "| 5.321689625952237|   6.54|\n",
            "| 6.283337334572795|   0.79|\n",
            "| 6.544015099773682|   0.17|\n",
            "| 7.222693456179887|    0.0|\n",
            "| 4.795737554842712|    0.0|\n",
            "| 5.687374666981038|    4.4|\n",
            "| 5.898589414745192|   0.52|\n",
            "| 8.494210544740339|   9.27|\n",
            "| 4.642733474536958|   3.09|\n",
            "| 7.911878336825719|   8.98|\n",
            "| 7.146090571280219|  11.19|\n",
            "| 6.873255148711035|   5.38|\n",
            "|10.037408639233607|  17.85|\n",
            "| 9.662990652364886|  10.73|\n",
            "|10.037408639233607|  22.03|\n",
            "|10.037408639233607|   9.77|\n",
            "| 6.873255148711035|   9.27|\n",
            "| 9.445625126854173|  24.77|\n",
            "| 5.371321366649902|    0.0|\n",
            "| 4.744371447634803|    1.1|\n",
            "| 7.509697231948567|  24.24|\n",
            "|15.568808834087788|    0.0|\n",
            "|24.322862747302903|    0.0|\n",
            "|10.063130602995711|    0.0|\n",
            "|  4.49380039310136|    0.0|\n",
            "| 6.158047718336466|    0.0|\n",
            "|  9.42316694857577|    0.0|\n",
            "| 7.892505245251127|    8.0|\n",
            "| 5.373792383530396|   2.64|\n",
            "|41.869107251914244|  86.45|\n",
            "| 6.486708646121752|   6.57|\n",
            "|12.377492491454987|    0.0|\n",
            "| 4.856785953312682|    0.9|\n",
            "| 5.903732907225565|    0.0|\n",
            "|   15.838592874204|    0.0|\n",
            "| 5.018842142236975|    0.0|\n",
            "+------------------+-------+\n",
            "only showing top 300 rows\n",
            "\n"
          ],
          "name": "stdout"
        }
      ]
    },
    {
      "cell_type": "markdown",
      "metadata": {
        "id": "tFZsM8dzG_m6",
        "colab_type": "text"
      },
      "source": [
        "Now let's go ahead and take a look at the feature importances of our random forest model. In order to do this, we need to unroll our pipeline to access the random forest model. Let's start by first checking out the `.bestModel` attribute of our `cross_validated_model`. "
      ]
    },
    {
      "cell_type": "code",
      "metadata": {
        "id": "MVKUxWNUG_m7",
        "colab_type": "code",
        "colab": {
          "base_uri": "https://localhost:8080/",
          "height": 33
        },
        "outputId": "22d6ea32-a4ba-489e-f1de-1115541f301d"
      },
      "source": [
        "type(cross_validated_model.bestModel)"
      ],
      "execution_count": 48,
      "outputs": [
        {
          "output_type": "execute_result",
          "data": {
            "text/plain": [
              "pyspark.ml.pipeline.PipelineModel"
            ]
          },
          "metadata": {
            "tags": []
          },
          "execution_count": 48
        }
      ]
    },
    {
      "cell_type": "markdown",
      "metadata": {
        "id": "AvtA3600G_m-",
        "colab_type": "text"
      },
      "source": [
        "`ml` is treating the entire pipeline as the best performing model, so we need to go deeper into the pipeline to access the random forest model within it. Previously, we put the random forest model as the final \"stage\" in the stages variable list. Let's look at the `.stages` attribute of the `.bestModel`."
      ]
    },
    {
      "cell_type": "code",
      "metadata": {
        "id": "zEQVkJ6sG_m-",
        "colab_type": "code",
        "colab": {
          "base_uri": "https://localhost:8080/",
          "height": 84
        },
        "outputId": "a6c6c9c3-d274-4708-eb87-5cf474f5bf00"
      },
      "source": [
        "cross_validated_model.bestModel.stages"
      ],
      "execution_count": 49,
      "outputs": [
        {
          "output_type": "execute_result",
          "data": {
            "text/plain": [
              "[StringIndexer_cebd6274d74f,\n",
              " OneHotEncoderEstimator_c3d27d35ad33,\n",
              " VectorAssembler_0d986538e9ec,\n",
              " RandomForestRegressionModel (uid=RandomForestRegressor_14d9ca3511f3) with 50 trees]"
            ]
          },
          "metadata": {
            "tags": []
          },
          "execution_count": 49
        }
      ]
    },
    {
      "cell_type": "markdown",
      "metadata": {
        "id": "31v3nCkjG_nA",
        "colab_type": "text"
      },
      "source": [
        "Perfect! There's the RandomForestRegressionModel, represented by the last item in the stages list. Now, we should be able to access all the attributes of the random forest regressor."
      ]
    },
    {
      "cell_type": "code",
      "metadata": {
        "id": "BO20dP17G_nA",
        "colab_type": "code",
        "colab": {}
      },
      "source": [
        "optimal_rf_model = cross_validated_model.bestModel.stages[3]"
      ],
      "execution_count": 50,
      "outputs": []
    },
    {
      "cell_type": "code",
      "metadata": {
        "id": "iYol1x8YG_nD",
        "colab_type": "code",
        "colab": {
          "base_uri": "https://localhost:8080/",
          "height": 33
        },
        "outputId": "ad3ca356-20a9-4dff-8482-c4e471cd91e4"
      },
      "source": [
        "optimal_rf_model.featureImportances"
      ],
      "execution_count": 51,
      "outputs": [
        {
          "output_type": "execute_result",
          "data": {
            "text/plain": [
              "SparseVector(22, {0: 0.106, 1: 0.1003, 2: 0.2073, 3: 0.1226, 4: 0.1065, 5: 0.0429, 6: 0.0994, 7: 0.0805, 8: 0.0914, 9: 0.0, 10: 0.0038, 11: 0.028, 12: 0.001, 13: 0.0084, 14: 0.0, 15: 0.0005, 16: 0.0001, 17: 0.0001, 18: 0.0004, 20: 0.0008})"
            ]
          },
          "metadata": {
            "tags": []
          },
          "execution_count": 51
        }
      ]
    },
    {
      "cell_type": "code",
      "metadata": {
        "id": "tSVw37cfG_nF",
        "colab_type": "code",
        "colab": {
          "base_uri": "https://localhost:8080/",
          "height": 33
        },
        "outputId": "aaa56e43-34a6-4407-ecd9-c0cb88f0b473"
      },
      "source": [
        "optimal_rf_model.getNumTrees"
      ],
      "execution_count": 52,
      "outputs": [
        {
          "output_type": "execute_result",
          "data": {
            "text/plain": [
              "50"
            ]
          },
          "metadata": {
            "tags": []
          },
          "execution_count": 52
        }
      ]
    },
    {
      "cell_type": "markdown",
      "metadata": {
        "id": "DC88gexXG_nH",
        "colab_type": "text"
      },
      "source": [
        "## Summary\n",
        "\n",
        "In this lesson, you learned about PySpark's DataFrames, machine learning models, and pipelines. With the use of a pipeline, you can train a huge number of models simultaneously, saving you a substantial amount of time and effort. Up next, you will have a chance to build a PySpark machine learning pipeline of your own with a classification problem!"
      ]
    }
  ]
}